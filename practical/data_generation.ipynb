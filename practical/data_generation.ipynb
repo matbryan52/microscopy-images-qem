{
 "cells": [
  {
   "cell_type": "code",
   "execution_count": null,
   "metadata": {},
   "outputs": [],
   "source": [
    "%matplotlib widget\n",
    "import pathlib\n",
    "rootdir = pathlib.Path(\".\").resolve()\n",
    "import numpy as np\n",
    "import abtem\n",
    "from scipy.stats.qmc import PoissonDisk\n",
    "from data_generation import generate_particle\n",
    "import matplotlib.pyplot as plt"
   ]
  },
  {
   "cell_type": "code",
   "execution_count": null,
   "metadata": {},
   "outputs": [],
   "source": [
    "atoms = []\n",
    "size = 1500  # In Angstroms\n",
    "rng = np.random.default_rng()\n",
    "engine = PoissonDisk(\n",
    "    d=2,\n",
    "    radius=60,\n",
    "    rng=rng,\n",
    "    l_bounds=(0, 0),\n",
    "    u_bounds=(size,) * 2,\n",
    ")\n",
    "sample = engine.fill_space()\n",
    "for (dy, dx) in sample:\n",
    "    at = generate_particle()\n",
    "    at.translate([dy, dx, 0.])\n",
    "    atoms.append(at)"
   ]
  },
  {
   "cell_type": "code",
   "execution_count": null,
   "metadata": {},
   "outputs": [],
   "source": [
    "atoms_combined = atoms[0]\n",
    "for a in atoms[1:]:\n",
    "    atoms_combined.extend(a)"
   ]
  },
  {
   "cell_type": "code",
   "execution_count": null,
   "metadata": {},
   "outputs": [],
   "source": [
    "xy_vac = 3\n",
    "atoms_combined.center(xy_vac)\n",
    "positions = atoms_combined.get_positions()\n",
    "size = size + (xy_vac * 2)"
   ]
  },
  {
   "cell_type": "code",
   "execution_count": null,
   "metadata": {},
   "outputs": [],
   "source": [
    "sampling = 0.25  # A / px\n",
    "shape = (size / sampling,) * 2  #px\n",
    "potential = abtem.Potential(\n",
    "    atoms_combined,\n",
    "    gpts=shape,\n",
    "    slice_thickness=5,\n",
    "    periodic=False,\n",
    "    projection=\"infinite\",\n",
    ")\n",
    "\n",
    "potential_array = potential.build(lazy=False)\n",
    "array = potential_array.array.sum(axis=0)\n",
    "m5, m95 = np.percentile(array.ravel(), (0.5, 99.5))\n",
    "array -= m5\n",
    "array /= (m95 - m5)\n",
    "array = np.clip(array, 0., 1.)"
   ]
  },
  {
   "cell_type": "code",
   "execution_count": null,
   "metadata": {},
   "outputs": [],
   "source": [
    "measurements = abtem.measurements.Images(\n",
    "    array,\n",
    "    sampling=sampling,\n",
    ")\n",
    "filtered_measurements = measurements.gaussian_filter(0.25)\n"
   ]
  },
  {
   "cell_type": "code",
   "execution_count": null,
   "metadata": {},
   "outputs": [],
   "source": [
    "fig, ax = plt.subplots()\n",
    "ax.imshow(\n",
    "    np.roll(filtered_measurements.array, (1000, 1000), axis=(0, 1)),\n",
    "    cmap=\"gray\"\n",
    ")"
   ]
  },
  {
   "cell_type": "code",
   "execution_count": null,
   "metadata": {},
   "outputs": [],
   "source": [
    "raise"
   ]
  },
  {
   "cell_type": "code",
   "execution_count": null,
   "metadata": {},
   "outputs": [],
   "source": [
    "image = filtered_measurements.array\n",
    "image = np.clip(image, 0.03, np.inf)\n",
    "np.savez_compressed(\n",
    "    rootdir / \"particles.npz\",\n",
    "    data=image,\n",
    "    extent=np.asarray((size / 10., size / 10.)),\n",
    ")"
   ]
  },
  {
   "cell_type": "code",
   "execution_count": null,
   "metadata": {},
   "outputs": [],
   "source": []
  }
 ],
 "metadata": {
  "kernelspec": {
   "display_name": "qem",
   "language": "python",
   "name": "python3"
  },
  "language_info": {
   "codemirror_mode": {
    "name": "ipython",
    "version": 3
   },
   "file_extension": ".py",
   "mimetype": "text/x-python",
   "name": "python",
   "nbconvert_exporter": "python",
   "pygments_lexer": "ipython3",
   "version": "3.12.9"
  }
 },
 "nbformat": 4,
 "nbformat_minor": 2
}
